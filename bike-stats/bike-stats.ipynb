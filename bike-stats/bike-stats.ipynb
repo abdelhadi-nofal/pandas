{
 "cells": [
  {
   "cell_type": "code",
   "execution_count": null,
   "id": "8751a125-6c76-4181-b422-8cbb5a9ee132",
   "metadata": {},
   "outputs": [],
   "source": [
    "import pandas as pd\n",
    "import numpy as np"
   ]
  },
  {
   "cell_type": "code",
   "execution_count": null,
   "id": "f7c9629d-661a-42ba-b893-ba59c4ee09d1",
   "metadata": {},
   "outputs": [],
   "source": [
    "df1 = pd.read_csv('station.csv')"
   ]
  },
  {
   "cell_type": "code",
   "execution_count": null,
   "id": "16885ed0-0636-4196-a0c4-0c6aaacd1fe9",
   "metadata": {},
   "outputs": [],
   "source": [
    "df2 = pd.read_csv('weather.csv')"
   ]
  },
  {
   "cell_type": "code",
   "execution_count": null,
   "id": "e5b382f7-6143-4d0d-8923-4252e52ff417",
   "metadata": {},
   "outputs": [],
   "source": [
    "df3 = pd.read_csv('trip.csv',warn_bad_lines=False ,error_bad_lines=False)"
   ]
  },
  {
   "cell_type": "code",
   "execution_count": null,
   "id": "e6fd8787-033a-45dc-957b-be5a6928b793",
   "metadata": {},
   "outputs": [],
   "source": []
  },
  {
   "cell_type": "markdown",
   "id": "477a8a57-8b91-4101-81c1-fb8f1c592f6d",
   "metadata": {},
   "source": [
    "## What is the average trip duration for a borrowed bicycle?"
   ]
  },
  {
   "cell_type": "code",
   "execution_count": null,
   "id": "c27fd3f9-1eca-4e92-9434-67e25f3a1d15",
   "metadata": {},
   "outputs": [],
   "source": [
    "avg = df3['tripduration']\n",
    "avg.mean()"
   ]
  },
  {
   "cell_type": "markdown",
   "id": "91b94392-75c5-4e90-841b-eb62b6465e04",
   "metadata": {},
   "source": [
    "## What's the most common age of a bicycle-sharer?"
   ]
  },
  {
   "cell_type": "code",
   "execution_count": null,
   "id": "0e8cfa56-57db-4657-bcca-f560cbbf0505",
   "metadata": {},
   "outputs": [],
   "source": [
    "most_common_age = df3['birthyear']\n",
    "most_common_year = 2021- most_common_age.mode()[0]\n",
    "most_common_year"
   ]
  },
  {
   "cell_type": "markdown",
   "id": "c7e3b655-89ef-40b8-8843-c6caa1a19313",
   "metadata": {},
   "source": [
    "## Given all the weather data here, find the average precipitation per month, and the median precipitation."
   ]
  },
  {
   "cell_type": "code",
   "execution_count": null,
   "id": "f0b561f5-7065-4034-bbb9-8f76b0e8547e",
   "metadata": {},
   "outputs": [],
   "source": [
    "def conv_month(cell):\n",
    "    return int(cell.split('/')[0])\n",
    "df2['Month']=df2['Date'].apply(conv_month)\n",
    "df2['Month']"
   ]
  },
  {
   "cell_type": "code",
   "execution_count": null,
   "id": "acacd7d4-217d-44ed-bfe5-3da58e77f82d",
   "metadata": {},
   "outputs": [],
   "source": [
    "df2.groupby('Month')['Precipitation_In'].mean()\n",
    "# df2.groupby(['Month','Precipitation_In']).mean()"
   ]
  },
  {
   "cell_type": "code",
   "execution_count": null,
   "id": "dd4eac3a-8099-4295-958b-81bcef25dbd5",
   "metadata": {},
   "outputs": [],
   "source": [
    "df2.groupby('Month')['Precipitation_In'].median()"
   ]
  },
  {
   "cell_type": "markdown",
   "id": "8557f72c-fd87-4c2d-802f-bdfe5fada317",
   "metadata": {},
   "source": [
    "## What’s the average number of bikes at a given bike station?"
   ]
  },
  {
   "cell_type": "code",
   "execution_count": null,
   "id": "a6273175-909a-47b7-b8db-936eb260e699",
   "metadata": {},
   "outputs": [],
   "source": [
    "avg_num_of_bikes= df1.mean()"
   ]
  },
  {
   "cell_type": "code",
   "execution_count": null,
   "id": "3f98b5b2-3341-4f27-aa49-a80c9f665efc",
   "metadata": {},
   "outputs": [],
   "source": [
    "avg_num_of_bikes.install_dockcount"
   ]
  },
  {
   "cell_type": "markdown",
   "id": "3e829750-75fe-46b7-8630-6428e2987d39",
   "metadata": {},
   "source": [
    "## When a bike station is modified, is it more likely that it’ll lose bikes or gain bikes? How do you know?"
   ]
  },
  {
   "cell_type": "code",
   "execution_count": null,
   "id": "3dcdd2dc-69c4-4e8e-8922-75c31ea6e496",
   "metadata": {},
   "outputs": [],
   "source": [
    "# modifed = df1[ df1['modification_date']!='NaN' ]\n",
    "# modifed = df1[['modification_date','install_dockcount','current_dockcount']].dropna()\n",
    "\n",
    "avg_num_midified_bikes=df1['current_dockcount'].mean()\n"
   ]
  },
  {
   "cell_type": "code",
   "execution_count": null,
   "id": "fa418228-bb2b-4352-af44-d8312c5c94bc",
   "metadata": {},
   "outputs": [],
   "source": [
    "avg_num_midified_bikes"
   ]
  },
  {
   "cell_type": "markdown",
   "id": "388ed2c2-58b5-42b0-b827-07cee5d56f3f",
   "metadata": {},
   "source": [
    "#### By Compare between install_dockcount and current_dockcount\n",
    "#### if there modification date "
   ]
  },
  {
   "cell_type": "markdown",
   "id": "f18a86e6-fe3b-4e6c-b431-845ffbfaccd9",
   "metadata": {},
   "source": [
    "# Come up with 3 more questions that can be answered with this data set"
   ]
  },
  {
   "cell_type": "markdown",
   "id": "591cafbb-bbeb-4b2b-ab02-1e37e44160fa",
   "metadata": {},
   "source": [
    "1. ### 1.Median of maximum tempratures in all days ?"
   ]
  },
  {
   "cell_type": "code",
   "execution_count": null,
   "id": "2fc986b0-93ae-47a8-90c1-dec0cafd95bd",
   "metadata": {},
   "outputs": [],
   "source": [
    "max_temps_median = df2[['Max_Temperature_F']].median()\n",
    "max_temps_median"
   ]
  },
  {
   "cell_type": "markdown",
   "id": "def143fe-7b54-480a-a5aa-58871e11d745",
   "metadata": {},
   "source": [
    "### 2.Highest Humidity ?"
   ]
  },
  {
   "cell_type": "code",
   "execution_count": null,
   "id": "5eb2c640-d258-4528-9f2d-6ceaf16d0b72",
   "metadata": {},
   "outputs": [],
   "source": [
    "highest_humidity = df2[['Max_Humidity']]\n",
    "sorted_highest_humidity = highest_humidity.sort_values('Max_Humidity', ascending=False)\n",
    "sorted_highest_humidity\n",
    "top_highest_humidity = sorted_highest_humidity.head(1)\n",
    "top_highest_humidity\n"
   ]
  },
  {
   "cell_type": "markdown",
   "id": "14e353ff-3f2b-4beb-ac76-86911779d689",
   "metadata": {},
   "source": [
    "### 3.Number of all members ?"
   ]
  },
  {
   "cell_type": "code",
   "execution_count": null,
   "id": "476c472b-381f-4c03-9da3-26945754ba74",
   "metadata": {},
   "outputs": [],
   "source": [
    "most_common_gender = df3[[\"usertype\"]]"
   ]
  },
  {
   "cell_type": "code",
   "execution_count": null,
   "id": "d145460d-ae97-4bb2-8c91-0709de5c30f3",
   "metadata": {},
   "outputs": [],
   "source": [
    "most_common_gender.count()"
   ]
  },
  {
   "cell_type": "code",
   "execution_count": null,
   "id": "3108fe92-d21e-4c69-aafa-cde66a5b4625",
   "metadata": {},
   "outputs": [],
   "source": [
    "def test ():\n",
    "    \n",
    "    def assert_equal(actual,expected):\n",
    "       \n",
    "        assert actual == expected, f\"Expected {expected} but got {actual}\"\n",
    "\n",
    "    assert_equal(avg.mean(),1178.2956753399776)\n",
    "    assert_equal(most_common_year,34.0)\n",
    "    assert_equal(avg_precipitation_month,3.1519593613933234)\n",
    "    assert_equal(median_precipitation, 0.0)\n",
    "    assert_equal(avg_num_bikes,17.586206896551722)\n",
    "    assert_equal(avg_num_midified_bikes,16.517241379310345)\n",
    "\n",
    "    print(\"Success!!!\")\n",
    "        \n",
    "test()"
   ]
  },
  {
   "cell_type": "code",
   "execution_count": null,
   "id": "99c36d4c-f476-4156-b757-4fbab0b144bf",
   "metadata": {},
   "outputs": [],
   "source": []
  }
 ],
 "metadata": {
  "kernelspec": {
   "display_name": "Python 3",
   "language": "python",
   "name": "python3"
  },
  "language_info": {
   "codemirror_mode": {
    "name": "ipython",
    "version": 3
   },
   "file_extension": ".py",
   "mimetype": "text/x-python",
   "name": "python",
   "nbconvert_exporter": "python",
   "pygments_lexer": "ipython3",
   "version": "3.9.4"
  }
 },
 "nbformat": 4,
 "nbformat_minor": 5
}
